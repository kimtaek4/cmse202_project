{
 "cells": [
  {
   "cell_type": "markdown",
   "metadata": {},
   "source": [
    "# How well can an agent-based model represent a mutating pathogen among a population? \n",
    "\n",
    "---"
   ]
  },
  {
   "cell_type": "markdown",
   "metadata": {},
   "source": [
    "### <p style=\"text-align: right;\"> &#9989; Put your name here.</p>"
   ]
  },
  {
   "cell_type": "markdown",
   "metadata": {},
   "source": [
    "---\n",
    "\n",
    "# 3/17/2023 Meeting: Stub Code\n",
    "\n",
    "Agents represent people (who can be infected)\n",
    "Environment could really be anything. Should be easily adaptable. Agents can move within it.\n",
    "Start with 100 agents, then build up from there?\n",
    "The environment should be big enough that they can separate from each other.\n",
    "\n",
    "\n",
    "\n",
    "Stub Person:\n",
    "Contains information on: coordinates, is it infected, virus (if infected), is the person dead, [is the person immune–consider whether this is too complicated, or if it would be feasible].\n",
    "Can move, can determine where it wants to move (consider nearest infected person? Maybe take into account walls??), can die, can recover (function of virus agent).\n",
    "\n",
    "Stub Virus:\n",
    "Stored within the Agent, probably? \n",
    "Contains average time to recovery, odds of dying per timestep, odds of infecting someone else (considering various transmission methods), other genetics (if we plan to implement immunity), symptoms (if we plan to implement that)???\n",
    "\n",
    "Stub Environment: \n",
    "Each pixel should have coordinates. If we’re introducing rooms, each pixel should have a value for whether people can enter it.\n"
   ]
  },
  {
   "cell_type": "markdown",
   "metadata": {},
   "source": [
    "## Code\n",
    "\n",
    "\n",
    "\n",
    "### Person\n",
    "\n"
   ]
  },
  {
   "cell_type": "code",
   "execution_count": null,
   "metadata": {},
   "outputs": [],
   "source": []
  },
  {
   "cell_type": "markdown",
   "metadata": {},
   "source": [
    "explain if needed\n"
   ]
  },
  {
   "cell_type": "markdown",
   "metadata": {},
   "source": [
    "### 1.2 (15 Points)\n",
    "\n",
    "Construct a new `Environment` object and a new `Animal_Agent` object. Specify that the `Animal_Agent` object is a female. Add the `Animal_Agent` object to the `Environment` object. Run the `simulation` method. You should see there's a bug in the code. **Fix the bug and explain what the cause was.**"
   ]
  },
  {
   "cell_type": "code",
   "execution_count": null,
   "metadata": {},
   "outputs": [],
   "source": [
    "#Write your code here"
   ]
  },
  {
   "cell_type": "markdown",
   "metadata": {},
   "source": [
    "explain if needed"
   ]
  },
  {
   "cell_type": "markdown",
   "metadata": {},
   "source": [
    "### Environment\n",
    "\n"
   ]
  },
  {
   "cell_type": "code",
   "execution_count": null,
   "metadata": {},
   "outputs": [],
   "source": [
    "#Write your code here"
   ]
  },
  {
   "cell_type": "markdown",
   "metadata": {},
   "source": [
    "explain if needed\n"
   ]
  },
  {
   "cell_type": "code",
   "execution_count": null,
   "metadata": {},
   "outputs": [],
   "source": []
  }
 ],
 "metadata": {
  "kernelspec": {
   "display_name": "Python 3",
   "language": "python",
   "name": "python3"
  },
  "language_info": {
   "codemirror_mode": {
    "name": "ipython",
    "version": 3
   },
   "file_extension": ".py",
   "mimetype": "text/x-python",
   "name": "python",
   "nbconvert_exporter": "python",
   "pygments_lexer": "ipython3",
   "version": "3.8.8"
  }
 },
 "nbformat": 4,
 "nbformat_minor": 2
}
