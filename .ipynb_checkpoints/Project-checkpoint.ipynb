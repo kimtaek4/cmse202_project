{
 "cells": [
  {
   "cell_type": "markdown",
   "metadata": {},
   "source": [
    "# How well can an agent-based model represent a mutating pathogen among a population? \n",
    "\n",
    "---"
   ]
  },
  {
   "cell_type": "markdown",
   "metadata": {},
   "source": [
    "### <p style=\"text-align: right;\"> &#9989; Put your name here.</p>"
   ]
  },
  {
   "cell_type": "markdown",
   "metadata": {},
   "source": [
    "\n",
    "# “Agent-based model of a mutating pathogen. Inspired by the work we've already done in this class. Could be as complex as the group wanted.”"
   ]
  },
  {
   "cell_type": "markdown",
   "metadata": {},
   "source": [
    "random wrtie anything other than actual code if needed"
   ]
  },
  {
   "cell_type": "markdown",
   "metadata": {},
   "source": [
    "---\n",
    "\n",
    "# 3/17/2023 Meeting: Stub Code\n",
    "\n",
    "Agents represent people (who can be infected)\n",
    "Environment could really be anything. Should be easily adaptable. Agents can move within it.\n",
    "Start with 100 agents, then build up from there?\n",
    "The environment should be big enough that they can separate from each other.\n",
    "\n",
    "\n",
    "\n",
    "Stub Person:\n",
    "Contains information on: coordinates, is it infected, virus (if infected), is the person dead, [is the person immune–consider whether this is too complicated, or if it would be feasible].\n",
    "Can move, can determine where it wants to move (consider nearest infected person? Maybe take into account walls??), can die, can recover (function of virus agent).\n",
    "\n",
    "Stub Virus:\n",
    "Stored within the Agent, probably? \n",
    "Contains average time to recovery, odds of dying per timestep, odds of infecting someone else (considering various transmission methods), other genetics (if we plan to implement immunity), symptoms (if we plan to implement that)???\n",
    "\n",
    "Stub Environment: \n",
    "Each pixel should have coordinates. If we’re introducing rooms, each pixel should have a value for whether people can enter it.\n"
   ]
  },
  {
   "cell_type": "markdown",
   "metadata": {},
   "source": [
    "## Code\n",
    "\n",
    "\n",
    "\n",
    "### Person\n"
   ]
  },
  {
   "cell_type": "code",
   "execution_count": 2,
   "metadata": {},
   "outputs": [],
   "source": [
    "import random\n",
    "\n",
    "class Person:\n",
    "    def __init__(self, x, y, infected=False, virus_type=None, immune=False):\n",
    "        self.x = x \n",
    "        self.y = y  \n",
    "        self.infected = infected \n",
    "        self.virus_type = virus_type  \n",
    "        self.alive = True  \n",
    "        self.immune = immune \n",
    "        self.days_infected = 0  \n",
    "    \n",
    "    def move(self, env):\n",
    "        if not self.infected:\n",
    "            dx, dy = random.choice([(0,1), (0,-1), (1,0), (-1,0)])\n",
    "            new_x = self.x + random.randint(1, 6) * dx\n",
    "            new_y = self.y + random.randint(1, 6) * dy\n",
    "        else:\n",
    "            dx, dy = random.choice([(0,1), (0,-1), (1,0), (-1,0)])\n",
    "            new_x = self.x + random.randint(1, 2) * dx\n",
    "            new_y = self.y + random.randint(1, 2) * dy\n",
    "        ################################################################################### not finished here\n",
    "    \n",
    "    def infect(self, virus_type):\n",
    "        self.infected = True\n",
    "        self.virus_type = virus_type\n",
    "    \n",
    "    def recover(self):\n",
    "        self.infected = False\n",
    "        self.virus_type = None\n",
    "        self.immune = True\n",
    "    \n",
    "    def die(self):\n",
    "        self.alive = False\n",
    "    \n",
    "    def update(self, virus):\n",
    "        if self.infected:\n",
    "            self.days_infected += 1\n",
    "            if self.days_infected >= virus.get_recovery_time():\n",
    "                self.recover()\n",
    "            elif random.random() < virus.get_death_rate():\n",
    "                self.die()\n",
    "            else:\n",
    "                virus.update(self)\n",
    "    \n",
    "    def is_immune(self):\n",
    "        return self.immune\n",
    "    \n",
    "    def check_direct_contact(self, env, virus_type):\n",
    "    adjacent_people = env.get_adjacent_people(self.x, self.y)\n",
    "    for person in adjacent_people:\n",
    "        if person.infected and not self.is_immune():\n",
    "            self.infect(virus_type)\n",
    "            break"
   ]
  },
  {
   "cell_type": "markdown",
   "metadata": {},
   "source": [
    "1. person has informations:\n",
    "- location (x and y coordinates)\n",
    "- infected or not\n",
    "- virus\n",
    "- dead or alive\n",
    "- immune or not\n",
    "- days of infected time\n",
    "\n",
    "2. person will move randomly 1~6 cells when not infected, and if it is out of the environment, it will not <- did not code yet\n",
    "\n",
    "\n",
    "3. when infected, person can - die - recover\n",
    "\n",
    "\n",
    "4. if a person makes a direct contact with an infected person and not immune, infected"
   ]
  },
  {
   "cell_type": "markdown",
   "metadata": {},
   "source": [
    "### Virus"
   ]
  },
  {
   "cell_type": "code",
   "execution_count": null,
   "metadata": {},
   "outputs": [],
   "source": [
    "class Virus:\n",
    "    def __init__(self, recovery_time, death_rate, transmission_rate):\n",
    "        self.recovery_time = recovery_time  \n",
    "        self.death_rate = death_rate  \n",
    "        self.transmission_rate = transmission_rate  \n",
    "    \n",
    "    def get_recovery_time(self):\n",
    "        return self.recovery_time\n",
    "    \n",
    "    def get_death_rate(self):\n",
    "        return self.death_rate\n",
    "    \n",
    "    def update(self, person):\n",
    "        # Implement virus-specific behavior for each timestep\n",
    "        pass"
   ]
  },
  {
   "cell_type": "markdown",
   "metadata": {},
   "source": []
  },
  {
   "cell_type": "markdown",
   "metadata": {},
   "source": [
    "### Environment\n",
    "\n"
   ]
  },
  {
   "cell_type": "code",
   "execution_count": null,
   "metadata": {},
   "outputs": [],
   "source": [
    "#Write your code here"
   ]
  },
  {
   "cell_type": "markdown",
   "metadata": {},
   "source": [
    "explain if needed\n"
   ]
  },
  {
   "cell_type": "markdown",
   "metadata": {},
   "source": [
    "### Simulation"
   ]
  },
  {
   "cell_type": "code",
   "execution_count": null,
   "metadata": {},
   "outputs": [],
   "source": []
  },
  {
   "cell_type": "markdown",
   "metadata": {},
   "source": [
    "explain"
   ]
  },
  {
   "cell_type": "code",
   "execution_count": null,
   "metadata": {},
   "outputs": [],
   "source": []
  }
 ],
 "metadata": {
  "kernelspec": {
   "display_name": "Python 3",
   "language": "python",
   "name": "python3"
  },
  "language_info": {
   "codemirror_mode": {
    "name": "ipython",
    "version": 3
   },
   "file_extension": ".py",
   "mimetype": "text/x-python",
   "name": "python",
   "nbconvert_exporter": "python",
   "pygments_lexer": "ipython3",
   "version": "3.8.8"
  }
 },
 "nbformat": 4,
 "nbformat_minor": 2
}
