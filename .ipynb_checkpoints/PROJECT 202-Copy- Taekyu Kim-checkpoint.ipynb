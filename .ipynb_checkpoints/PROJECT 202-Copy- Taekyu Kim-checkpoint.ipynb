{
 "cells": [
  {
   "cell_type": "markdown",
   "id": "e1c95c23",
   "metadata": {},
   "source": [
    "# How well can an agent-based model represent a mutating pathogen among a population?\n",
    "✅ Put your name here.\n",
    "\n",
    "“Agent-based model of a mutating pathogen. Inspired by the work we've already done in this class. Could be as complex as the group wanted.”\n",
    "random wrtie anything other than actual code if needed\n",
    "\n",
    "I made change on person class, so it does not go out of the env. The default of our envrionment is 100x100 now. If we want the envrionment size to be different, we have to create person class that has different xmax and ymax value.\n",
    "\n",
    "Virus class now has : def get_transmission_rate(self)\n",
    "\n",
    "Code"
   ]
  },
  {
   "cell_type": "markdown",
   "id": "0de46a40",
   "metadata": {},
   "source": [
    "# Person"
   ]
  },
  {
   "cell_type": "code",
   "execution_count": 17,
   "id": "285cd784",
   "metadata": {},
   "outputs": [],
   "source": [
    "import random\n",
    "\n",
    "class Person:\n",
    "    def __init__(self, x, y, infected=False, virus_type=None, immune=False,xmax=200,ymax=200):\n",
    "        self.x = x \n",
    "        self.y = y  \n",
    "        self.infected = infected \n",
    "        self.virus_type = virus_type  \n",
    "        self.alive = True  \n",
    "        self.immune = immune \n",
    "        self.days_infected = 0  \n",
    "        self.xmax = xmax\n",
    "        self.ymax = ymax\n",
    "    def move(self):\n",
    "        if not self.infected:\n",
    "            dx, dy = random.choice([(0,1), (0,-1), (1,0), (-1,0)])\n",
    "            new_x = self.x + random.randint(1, 6) * dx\n",
    "            new_y = self.y + random.randint(1, 6) * dy\n",
    "            \n",
    "            if (new_x > self.xmax):\n",
    "                new_x = self.xmax\n",
    "            if (new_x<0):\n",
    "                new_x=0\n",
    "            if (new_y > self.ymax):\n",
    "                new_y = self.ymax\n",
    "            if (new_y<0):\n",
    "                new_y=0\n",
    "            \n",
    "        else:\n",
    "            dx, dy = random.choice([(0,1), (0,-1), (1,0), (-1,0)])\n",
    "            new_x = self.x + random.randint(1, 2) * dx\n",
    "            new_y = self.y + random.randint(1, 2) * dy\n",
    "            if (new_x > self.xmax):\n",
    "                new_x = self.xmax\n",
    "            if (new_x<0):\n",
    "                new_x=0\n",
    "            if (new_y > self.ymax):\n",
    "                new_y = self.ymax\n",
    "            if (new_y<0):\n",
    "                new_y=0\n",
    "                \n",
    "        self.x = new_x\n",
    "        self.y = new_y\n",
    "\n",
    "    def infect(self, virus_type):\n",
    "        self.infected = True\n",
    "        self.virus_type = virus_type\n",
    "    \n",
    "    def recover(self):\n",
    "        self.infected = False\n",
    "        self.virus_type = None\n",
    "        self.immune = True\n",
    "    \n",
    "    def die(self):\n",
    "        self.alive = False\n",
    "    \n",
    "    def update(self, virus):\n",
    "        if self.infected:\n",
    "            self.days_infected += 1\n",
    "            if self.days_infected >= virus.get_recovery_time():\n",
    "                self.recover()\n",
    "            elif random.random() < virus.get_death_rate():\n",
    "                self.die()\n",
    "            else:\n",
    "                virus.update(self)\n",
    "    \n",
    "    def is_immune(self):\n",
    "        return self.immune\n",
    "    \n",
    "    def check_direct_contact(self, env, virus_type):\n",
    "        adjacent_people = env.get_adjacent_people(self.x, self.y)\n",
    "        for person in adjacent_people:\n",
    "            if person.infected and not self.is_immune():\n",
    "                self.infect(virus_type)\n",
    "                break"
   ]
  },
  {
   "cell_type": "markdown",
   "id": "fa08589e",
   "metadata": {},
   "source": [
    "person has informations:\n",
    "location (x and y coordinates)\n",
    "infected or not\n",
    "virus\n",
    "dead or alive\n",
    "immune or not\n",
    "days of infected time\n",
    "person will move randomly 1~6 cells when not infected, and if it is out of the environment, it will not <- did not code yet\n",
    "\n",
    "when infected, person can - die - recover\n",
    "\n",
    "if a person makes a direct contact with an infected person and not immune, infected"
   ]
  },
  {
   "cell_type": "markdown",
   "id": "10b6faa1",
   "metadata": {},
   "source": [
    "# Virus"
   ]
  },
  {
   "cell_type": "code",
   "execution_count": 18,
   "id": "beca1342",
   "metadata": {},
   "outputs": [],
   "source": [
    "class Virus:\n",
    "    def __init__(self, recovery_days, mortality_rate, transmission_rate,infection_distance):\n",
    "        self.recovery_days = recovery_days\n",
    "        self.mortality_rate = mortality_rate\n",
    "        self.transmission_rate = transmission_rate\n",
    "        self.infection_distance = infection_distance\n",
    "    \n",
    "    def get_recovery_time(self):\n",
    "        return self.recovery_time\n",
    "    \n",
    "    def get_death_rate(self):\n",
    "        return self.death_rate\n",
    "    \n",
    "    def get_transmission_rate(self):\n",
    "        return self.transmission_rate\n",
    "    \n",
    "    def update(self, person):\n",
    "        pass  "
   ]
  },
  {
   "cell_type": "markdown",
   "id": "c2d876a0",
   "metadata": {},
   "source": [
    "# Environment"
   ]
  },
  {
   "cell_type": "code",
   "execution_count": 19,
   "id": "b1c7cc56",
   "metadata": {},
   "outputs": [],
   "source": [
    "import random\n",
    "import matplotlib.pyplot as plt\n",
    "import numpy as np\n",
    "import time\n",
    "from IPython.display import clear_output\n",
    "\n",
    "class Environment:\n",
    "    def __init__(self, xmax=200, ymax=200):\n",
    "        self.xmax = xmax\n",
    "        self.ymax = ymax\n",
    "        self.people = []\n",
    "        self.virus = None\n",
    "        self.dead_count = 0\n",
    "        self.infect_count = 0\n",
    "        self.environ = np.zeros((self.xmax,self.ymax,3))\n",
    "        self.environ[:,:,0] = 0.8\n",
    "        self.environ[:,:,1] = 0.8\n",
    "        self.environ[:,:,2] = 0.8\n",
    "    \n",
    "    def add_person(self, person):\n",
    "        self.people.append(person)\n",
    "    \n",
    "    def add_virus(self, virus):\n",
    "        self.virus = virus\n",
    "        \n",
    "    def get_virus(self):\n",
    "        return self.virus\n",
    "    def get_distance(self, person1, person2):\n",
    "        \n",
    "        return np.sqrt((person1.x - person2.x)**2 + (person1.y - person2.y)**2)\n",
    "        \n",
    "    def simulate(self,times):\n",
    "        for day in range(times):\n",
    "            clear_output(wait=True)\n",
    "            plt.figure(figsize=(6, 6))\n",
    "            plt.imshow(self.environ)\n",
    "            ax = plt.gca()\n",
    "            for i, person in enumerate(self.people):\n",
    "                person.move()\n",
    "                \n",
    "                if not person.immune:\n",
    "                    for j, other_person in enumerate(self.people):\n",
    "                        if i != j and other_person.infected:\n",
    "                            distance = self.get_distance(person, other_person)\n",
    "                            if distance < self.virus.infection_distance:\n",
    "                                if random.random() < self.virus.transmission_rate:\n",
    "                                    if not person.infected:\n",
    "                                        person.infected = True\n",
    "                                        self.infect_count += 1\n",
    "                            \n",
    "                if person.infected:\n",
    "                    if random.random() < self.virus.mortality_rate:\n",
    "                        self.dead_count += 1\n",
    "                        self.people.pop(i)\n",
    "                    elif person.days_infected >= self.virus.recovery_days:\n",
    "                        person.infected = False\n",
    "                        person.immune = True\n",
    "                    else:\n",
    "                        person.days_infected += 1\n",
    "                        \n",
    "                if person.infected:\n",
    "                    color = 'red'\n",
    "                elif not person.alive:\n",
    "                    color = 'grey'\n",
    "                elif person.immune:\n",
    "                    color = \"green\"\n",
    "                else:\n",
    "                    color = 'blue'\n",
    "                    \n",
    "                ax.scatter(person.x, person.y, c=color)\n",
    "                               \n",
    "            plt.xlim(0, self.xmax)\n",
    "            plt.ylim(0, self.ymax)\n",
    "            plt.show()\n",
    "            time.sleep(0.01)\n",
    "\n",
    "    def get_death(self):\n",
    "        return self.dead_count\n",
    "    def get_infected(self):\n",
    "        return self.infect_count\n"
   ]
  },
  {
   "cell_type": "markdown",
   "id": "b513a2b9",
   "metadata": {},
   "source": [
    "# Simulation"
   ]
  },
  {
   "cell_type": "code",
   "execution_count": 61,
   "id": "b6cb3958",
   "metadata": {},
   "outputs": [],
   "source": [
    "env = Environment()\n",
    "\n",
    "vir = Virus(14, 0.011, 0.89,10)\n",
    "env.add_virus(vir)\n",
    "\n",
    "\n",
    "for i in range(500):\n",
    "    x, y = random.randint(0, 199), random.randint(0, 199)\n",
    "    person = Person(x, y)\n",
    "    env.add_person(person)\n",
    "\n",
    "infected_people = random.sample(env.people, 1)\n",
    "for person in infected_people:\n",
    "    person.infected = True"
   ]
  },
  {
   "cell_type": "code",
   "execution_count": 62,
   "id": "b70018f4",
   "metadata": {},
   "outputs": [
    {
     "data": {
      "image/png": "[encoded data removed]",
      "text/plain": [
       "<Figure size 432x432 with 1 Axes>"
      ]
     },
     "metadata": {
      "needs_background": "light"
     },
     "output_type": "display_data"
    }
   ],
   "source": [
    "# env.simulate(100)\n",
    "# print(env.get_death())\n",
    "# print(env.get_infected())\n",
    "\n",
    "\n",
    "\n",
    "\n",
    "\n",
    "a = 0\n",
    "alive=[]\n",
    "dead=[]\n",
    "infected=[]\n",
    "days=[]\n",
    "\n",
    "\n",
    "while a <=30:   # 30 days (1 month) \n",
    "    env.simulate(1)\n",
    "    de = env.get_death()\n",
    "    inf =env.get_infected()\n",
    "    live=500 - de # 200 comes from the number of person agents we put in the for loop \n",
    "    alive.append(live)\n",
    "    dead.append(de)\n",
    "    infected.append(inf)\n",
    "    days.append(a)\n",
    "    im=live- de- inf\n",
    "\n",
    "    a=a+1\n"
   ]
  },
  {
   "cell_type": "code",
   "execution_count": 66,
   "id": "07682061",
   "metadata": {},
   "outputs": [
    {
     "data": {
      "image/png": "[encoded data removed]",
      "text/plain": [
       "<Figure size 432x288 with 1 Axes>"
      ]
     },
     "metadata": {
      "needs_background": "light"
     },
     "output_type": "display_data"
    },
    {
     "name": "stdout",
     "output_type": "stream",
     "text": [
      "500 489 465 436\n"
     ]
    }
   ],
   "source": [
    "# importing package\n",
    "import matplotlib.pyplot as plt\n",
    "\n",
    "\n",
    "\n",
    "# plot lines\n",
    "plt.plot(days, alive, label = \"Alive Person Agents\", color = 'blue')\n",
    "plt.plot(days, dead, label = \"Dead Agents\")\n",
    "plt.plot(days, infected, label = \"Infected Agents\", color = 'red')\n",
    "\n",
    "plt.title(\"Trends in the Population\")\n",
    "\n",
    "\n",
    "\n",
    "\n",
    "plt.legend()\n",
    "plt.show()\n",
    "\n",
    "\n",
    "print (alive[0],alive[10],alive[20],alive[30])"
   ]
  },
  {
   "cell_type": "code",
   "execution_count": null,
   "id": "5343fd67",
   "metadata": {},
   "outputs": [],
   "source": []
  }
 ],
 "metadata": {
  "kernelspec": {
   "display_name": "Python 3",
   "language": "python",
   "name": "python3"
  },
  "language_info": {
   "codemirror_mode": {
    "name": "ipython",
    "version": 3
   },
   "file_extension": ".py",
   "mimetype": "text/x-python",
   "name": "python",
   "nbconvert_exporter": "python",
   "pygments_lexer": "ipython3",
   "version": "3.8.8"
  }
 },
 "nbformat": 4,
 "nbformat_minor": 5
}
